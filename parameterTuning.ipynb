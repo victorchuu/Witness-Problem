{
 "cells": [
  {
   "cell_type": "code",
   "execution_count": null,
   "metadata": {},
   "outputs": [],
   "source": [
    "import matplotlib.pyplot as plt\n",
    "import src.geneticAlgorithm.algorithmTestUtils as tst\n",
    "from src.geneticAlgorithm.geneticAlgorithm import GeneticAlgorithm\n",
    "from src.witnessproblem import Instance, RandomInstanceGenerator\n",
    "\n",
    "NUM_INSTANCES = 5\n",
    "RUNS_PER_INSTANCE = 10"
   ]
  },
  {
   "cell_type": "code",
   "execution_count": null,
   "metadata": {},
   "outputs": [],
   "source": [
    "import src.witnessproblem.randomGenerator as generator\n",
    "\n",
    "NUM_VERTICES = [50, 100, 150, 200, 250]\n",
    "for i, numVertices in enumerate(NUM_VERTICES):\n",
    "    RandomInstanceGenerator(vertices=numVertices, \n",
    "                            avg_vertex_degree=5, \n",
    "                            max_time_window=60, \n",
    "                            max_vertex_distance=5, \n",
    "                            witnesses=500, \n",
    "                            max_interval_length=10,\n",
    "                            max_vertices_per_testimony=3,\n",
    "                            negative_testimonies_rate=0.2).create(f\"tuning/I{i}.txt\", 1)\n"
   ]
  },
  {
   "cell_type": "code",
   "execution_count": null,
   "metadata": {},
   "outputs": [],
   "source": [
    "def executeOnInstance(algorithms: GeneticAlgorithm, filename, repetitions=1):\n",
    "\n",
    "    print(f\"Running instance {filename}\")\n",
    "    with open('instances/' + filename + '.txt') as inFile:\n",
    "\n",
    "        num_instances = int(inFile.readline())\n",
    "        meanSolutions = []\n",
    "        maxSolutions = []\n",
    "\n",
    "        if num_instances != 1:\n",
    "            raise \"ExecuteOnInstance only supports files with once instance for now!\"\n",
    "\n",
    "        instance = Instance()\n",
    "        instance.readFromFile(inFile) \n",
    "\n",
    "        for alg in algorithms:\n",
    "            solution = list()\n",
    "            for _ in range(repetitions):\n",
    "                solution.append(alg.run(instance))\n",
    "\n",
    "            meanSolutions.append(sum(solution)/repetitions)\n",
    "            maxSolutions.append(max(solution))\n",
    "\n",
    "    return meanSolutions, maxSolutions"
   ]
  },
  {
   "cell_type": "code",
   "execution_count": null,
   "metadata": {},
   "outputs": [],
   "source": [
    "def runAndGenerateCoolGraphs(algorithms, testedParameters, parameterName):\n",
    "    for i in range(NUM_INSTANCES):\n",
    "        meanSolutions, maxSolutions = executeOnInstance(algorithms, f'tuning/I{i}', repetitions=RUNS_PER_INSTANCE)\n",
    "        print(f\"\\nInstance #{i}: \\nMean solutions per algorithm: {meanSolutions}\\tMax solutions per algorithm: {maxSolutions}\")\n",
    "\n",
    "        plt.plot(testedParameters, meanSolutions, label=\"mean fitness\")\n",
    "        plt.plot(testedParameters, maxSolutions, label=\"max fitness\")\n",
    "        plt.legend()\n",
    "        plt.xlabel(parameterName)\n",
    "        plt.savefig(f\"solutions/tuning/{parameterName}I{i}\")\n",
    "        plt.clf()\n",
    "\n",
    "        tst.executeAlgorithmsGraph(algorithms, f'tuning/I{i}', legend=testedParameters)\n",
    "        plt.title(parameterName)\n",
    "        plt.savefig(f\"solutions/tuning/comparison/{parameterName}I{i}\")\n",
    "        plt.clf()"
   ]
  },
  {
   "attachments": {},
   "cell_type": "markdown",
   "metadata": {},
   "source": [
    "#### Population Size Tuning\n",
    "\n",
    "As expected, the results show us that using populations of bigger sizes improves the results obtained by the\n",
    "algorithm. However, this performance boost seems to reach a limit between populations of size 150 and 200, being\n",
    "hardly any difference between the two values. Therefore, making a trade-off between computational time and efficiency,\n",
    "we will use a population of 150 individuals for the subsequent experiments."
   ]
  },
  {
   "cell_type": "code",
   "execution_count": null,
   "metadata": {},
   "outputs": [],
   "source": [
    "populationSizes = [50, 75, 100, 150, 200]\n",
    "algorithms = [GeneticAlgorithm(\n",
    "    numGenerations = 100, \n",
    "    populationSize = size,\n",
    "    localSearchProb=lambda x, y: 0\n",
    "    ) for size in populationSizes]\n",
    "\n",
    "runAndGenerateCoolGraphs(algorithms, populationSizes, \"Population Size\")\n",
    "\n",
    "SELECTED_POPULATION = 150"
   ]
  },
  {
   "cell_type": "markdown",
   "metadata": {},
   "source": [
    "#### Mutation Probability Tuning\n",
    "\n",
    "We can also see that there is no significant difference between the\n",
    "values obtained when the mutation probability remains in the ranges 𝑝𝑚 ∈ [0.3, 0.9].\n",
    "For obvious reasons, values close to 0 lead to the worst results, but the experiments do not show much sensitivity to the\n",
    "parameter when it is within this range. The value we will use for the forthcoming experiments is 𝑝𝑚 = 0.6"
   ]
  },
  {
   "cell_type": "code",
   "execution_count": null,
   "metadata": {},
   "outputs": [],
   "source": [
    "mutationProbs = [0,0.2, 0.4, 0.6, 0.8, 1]\n",
    "algorithms = [GeneticAlgorithm(\n",
    "    numGenerations = 100, \n",
    "    populationSize = SELECTED_POPULATION, \n",
    "    mutationProbability=prob,\n",
    "    localSearchProb=lambda x, y: 0\n",
    "    ) for prob in mutationProbs]\n",
    "\n",
    "runAndGenerateCoolGraphs(algorithms, mutationProbs, \"Mutation Probability\")\n",
    "\n",
    "SELECTED_MUTATION = 0.6"
   ]
  },
  {
   "cell_type": "markdown",
   "metadata": {},
   "source": [
    "#### Crossover Probability Tuning\n",
    "\n",
    "Similarly, there is no significant difference in the outcomes when the crossover probability\n",
    "remains in the ranges 𝑝𝑐 ∈ [0.5, 0.9].\n",
    "The value we will use for the forthcoming experiments is 𝑝𝑐 = 0.7"
   ]
  },
  {
   "cell_type": "code",
   "execution_count": null,
   "metadata": {},
   "outputs": [],
   "source": [
    "crossoverProbs = [0.1, 0.3, 0.5, 0.7, 0.9]\n",
    "algorithms = [GeneticAlgorithm(\n",
    "    numGenerations = 100, \n",
    "    populationSize = SELECTED_POPULATION, \n",
    "    mutationProb = SELECTED_MUTATION\n",
    "    crossoverRate=prob, \n",
    "    localSearchProb=lambda x, y: 0\n",
    "    ) for prob in crossoverProbs]\n",
    "\n",
    "runAndGenerateCoolGraphs(algorithms, crossoverProbs, \"Crossover Proportion\")\n",
    "\n",
    "SELECTED_CROSSOVER = 0.7"
   ]
  },
  {
   "cell_type": "markdown",
   "metadata": {},
   "source": [
    "### Local Search Probability Tuning\n",
    "\n",
    "When it comes to local search probability, we will perform three experiments:\n",
    "- A fixed probability\n",
    "- A increasingly linear probability, that starts with an initial value of 0, and increase linearly in the number\n",
    "of iterations of the algorithm, until it reaches a maximum value of 𝑝𝑙𝑠 (in particular, if 𝑝𝑙𝑠 = 0 then the memetic algorithm behaves\n",
    "exactly as a genetic algorithm for the whole execution). \n",
    "- A probability that increases quadraticly until it reaches the maximum.\n",
    "\n",
    "The local search operator considerably increases the execution time of the algorithm, so we need to find a balance between effectiveness and performance. \n",
    "Results suggest that the lineal approach, caped at 0.3, is an appropriate value, but the graphs are great examples of how higher values of this probability can\n",
    "make the algorithm fall too early in local maxima. Considering a trade-off between time, the results obtained, and the\n",
    "possibility of premature convergence, we will choose 𝑝𝑙𝑠 = 0.2."
   ]
  },
  {
   "cell_type": "code",
   "execution_count": null,
   "metadata": {},
   "outputs": [],
   "source": [
    "maxLocalSearchProbs = [0, 0.1, 0.2, 0.3, 0.4]\n",
    "localSearchProbs = [lambda _,x : maxProb for maxProb in maxLocalSearchProbs]\n",
    "algorithms = [GeneticAlgorithm(\n",
    "    numGenerations = 100, \n",
    "    populationSize = SELECTED_POPULATION, \n",
    "    mutationProb = SELECTED_MUTATION,\n",
    "    crossoverRate = SELECTED_CROSSOVER,\n",
    "    localSearchProb = prob\n",
    "    ) for prob in localSearchProbs]\n",
    "\n",
    "runAndGenerateCoolGraphs(algorithms, maxLocalSearchProbs, \"Local Search Probability\")"
   ]
  },
  {
   "cell_type": "code",
   "execution_count": null,
   "metadata": {},
   "outputs": [],
   "source": [
    "maxLocalSearchProbs = [0, 0.1, 0.2, 0.3, 0.4]\n",
    "localSearchProbs = [lambda it,maxIt: it/maxIt * maxProb for maxProb in maxLocalSearchProbs]\n",
    "algorithms = [GeneticAlgorithm(\n",
    "    numGenerations = 100, \n",
    "    populationSize = SELECTED_POPULATION, \n",
    "    mutationProb = SELECTED_MUTATION,\n",
    "    crossoverRate = SELECTED_CROSSOVER,\n",
    "    localSearchProb = prob) for prob in localSearchProbs]\n",
    "\n",
    "runAndGenerateCoolGraphs(algorithms, maxLocalSearchProbs, \"Max Local Search Probability\")"
   ]
  },
  {
   "cell_type": "code",
   "execution_count": null,
   "metadata": {},
   "outputs": [],
   "source": [
    "maxLocalSearchProbs = [0.1, 0.2, 0.3]\n",
    "localSearchProbs = [lambda it,maxIt: (it/maxIt)**2 * maxProb for maxProb in maxLocalSearchProbs]\n",
    "algorithms = [GeneticAlgorithm(\n",
    "    numGenerations = 100, \n",
    "    populationSize = SELECTED_POPULATION, \n",
    "    mutationProb = SELECTED_MUTATION,\n",
    "    crossoverRate = SELECTED_CROSSOVER,\n",
    "    localSearchProb = prob) for prob in localSearchProbs]\n",
    "\n",
    "runAndGenerateCoolGraphs(algorithms, maxLocalSearchProbs, \"MaxLocalSearchSquaredProbability\")"
   ]
  },
  {
   "cell_type": "code",
   "execution_count": null,
   "metadata": {},
   "outputs": [],
   "source": [
    "localSearchProbs = [\n",
    "    lambda it,maxIt: 0.1,\n",
    "    lambda it,maxIt: 0.1 * it/maxIt,\n",
    "    lambda it,maxIt: 0.1 *(it/maxIt)**2 \n",
    "    ]\n",
    "algorithms = [GeneticAlgorithm(\n",
    "    numGenerations = 100, \n",
    "    populationSize = SELECTED_POPULATION, \n",
    "    mutationProb = SELECTED_MUTATION,\n",
    "    crossoverRate = SELECTED_CROSSOVER,\n",
    "    localSearchProb = prob) for prob in localSearchProbs]\n",
    "\n",
    "runAndGenerateCoolGraphs(algorithms, ['constant 0.2', 'lineal 0.3', 'squared 0.4'], \"LocalSearchFunctions\")"
   ]
  }
 ],
 "metadata": {
  "kernelspec": {
   "display_name": "witness",
   "language": "python",
   "name": "python3"
  },
  "language_info": {
   "codemirror_mode": {
    "name": "ipython",
    "version": 3
   },
   "file_extension": ".py",
   "mimetype": "text/x-python",
   "name": "python",
   "nbconvert_exporter": "python",
   "pygments_lexer": "ipython3",
   "version": "3.10.8"
  },
  "orig_nbformat": 4,
  "vscode": {
   "interpreter": {
    "hash": "ccd8ee7c7f6cb014fac02a3a35c1b29b8b036c0ce57fbdd561afc32abd8410ff"
   }
  }
 },
 "nbformat": 4,
 "nbformat_minor": 2
}
