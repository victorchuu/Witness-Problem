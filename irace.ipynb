{
 "cells": [
  {
   "cell_type": "code",
   "execution_count": 1,
   "metadata": {},
   "outputs": [
    {
     "ename": "ModuleNotFoundError",
     "evalue": "No module named 'irace'",
     "output_type": "error",
     "traceback": [
      "\u001b[0;31m---------------------------------------------------------------------------\u001b[0m",
      "\u001b[0;31mModuleNotFoundError\u001b[0m                       Traceback (most recent call last)",
      "Cell \u001b[0;32mIn[1], line 3\u001b[0m\n\u001b[1;32m      1\u001b[0m \u001b[38;5;28;01mimport\u001b[39;00m \u001b[38;5;21;01mnumpy\u001b[39;00m \u001b[38;5;28;01mas\u001b[39;00m \u001b[38;5;21;01mnp\u001b[39;00m\n\u001b[0;32m----> 3\u001b[0m \u001b[38;5;28;01mfrom\u001b[39;00m \u001b[38;5;21;01mirace\u001b[39;00m \u001b[38;5;28;01mimport\u001b[39;00m irace\n\u001b[1;32m      5\u001b[0m DIM\u001b[38;5;241m=\u001b[39m\u001b[38;5;241m10\u001b[39m \n\u001b[1;32m      6\u001b[0m \u001b[38;5;28;01mdef\u001b[39;00m \u001b[38;5;21mtarget_runner\u001b[39m(experiment, scenario):\n",
      "\u001b[0;31mModuleNotFoundError\u001b[0m: No module named 'irace'"
     ]
    }
   ],
   "source": [
    "import numpy as np\n",
    "\n",
    "from irace import irace\n",
    "\n",
    "DIM=10 \n",
    "def target_runner(experiment, scenario):\n",
    "\n",
    "    if scenario['debugLevel'] > 0:\n",
    "        print(f'{experiment[\"configuration\"]}')\n",
    "        \n",
    "    return dict(cost=3)\n",
    "\n",
    "parameters_table = '''\n",
    "initial_temp       \"\" r,log (0.02, 5e4)\n",
    "restart_temp_ratio \"\" r,log (1e-5, 1)\n",
    "visit              \"\" r     (1.001, 3)\n",
    "accept             \"\" r     (-1e3, -5)\n",
    "# TODO: irace does not have a type boolean yet.\n",
    "no_local_search    \"\" c     (\"\",\"1\") \n",
    "'''\n",
    "\n",
    "default_values = '''\n",
    "initial_temp restart_temp_ratio visit accept no_local_search\n",
    "5230         2e-5               2.62  -5.0   \"\"\n",
    "'''\n",
    "\n",
    "instances = np.arange(100)\n",
    "\n",
    "# See https://mlopez-ibanez.github.io/irace/reference/defaultScenario.html\n",
    "scenario = dict(\n",
    "    instances = instances,\n",
    "    maxExperiments = 500,\n",
    "    debugLevel = 3,\n",
    "    digits = 5,\n",
    "    parallel =4, \n",
    "    logFile = \"\")\n",
    "\n",
    "\n",
    "tuner = irace(scenario, parameters_table, target_runner)\n",
    "tuner.set_initial_from_str(default_values)\n",
    "best_confs = tuner.run()\n",
    "# Pandas DataFrame\n",
    "print(best_confs)"
   ]
  },
  {
   "cell_type": "code",
   "execution_count": 2,
   "metadata": {},
   "outputs": [],
   "source": [
    "import pandas"
   ]
  }
 ],
 "metadata": {
  "kernelspec": {
   "display_name": "witness",
   "language": "python",
   "name": "python3"
  },
  "language_info": {
   "codemirror_mode": {
    "name": "ipython",
    "version": 3
   },
   "file_extension": ".py",
   "mimetype": "text/x-python",
   "name": "python",
   "nbconvert_exporter": "python",
   "pygments_lexer": "ipython3",
   "version": "3.10.14"
  }
 },
 "nbformat": 4,
 "nbformat_minor": 2
}
