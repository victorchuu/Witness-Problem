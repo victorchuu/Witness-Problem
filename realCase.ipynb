{
 "cells": [
  {
   "cell_type": "markdown",
   "metadata": {},
   "source": [
    "### Real Case Study\n",
    "\n"
   ]
  },
  {
   "cell_type": "markdown",
   "metadata": {},
   "source": [
    "### Instance generation"
   ]
  },
  {
   "cell_type": "code",
   "execution_count": 1,
   "metadata": {},
   "outputs": [],
   "source": [
    "GRID_SIZE = 9\n",
    "FILENAME = 'realCase'"
   ]
  },
  {
   "cell_type": "code",
   "execution_count": 4,
   "metadata": {},
   "outputs": [
    {
     "name": "stdout",
     "output_type": "stream",
     "text": [
      "10\n",
      "13\n",
      "15\n",
      "10\n",
      "16\n",
      "15\n",
      "11\n",
      "14\n",
      "14\n",
      "15\n",
      "9\n",
      "11\n",
      "18\n",
      "12\n",
      "18\n",
      "9\n",
      "13\n",
      "14\n",
      "11\n",
      "12\n",
      "13\n",
      "18\n",
      "18\n",
      "10\n",
      "9\n",
      "9\n",
      "10\n",
      "11\n",
      "18\n",
      "12\n",
      "18\n",
      "15\n",
      "18\n",
      "18\n",
      "13\n",
      "10\n"
     ]
    }
   ],
   "source": [
    "from src.realisticCase import RealisticCaseInstanceGenerator, RealisticCaseSolutionData\n",
    "from src.witnessproblem import Instance\n",
    "import random\n",
    "\n",
    "random.seed(1234)\n",
    "\n",
    "STATIC_WITNESSES = 25\n",
    "TESTIMONIES_PER_LYING_WITNESS = 5\n",
    "BASE_SIMILARITIES = [0, 0.1, 0.2, 0.3, 0.4, 0.5]\n",
    "LYING_WITNESSES = [0,1,2,3,4,5]\n",
    "\n",
    "NUMBER_OF_INSTANCES = len(BASE_SIMILARITIES) * len(LYING_WITNESSES)\n",
    "\n",
    "instances = []\n",
    "routes: list[RealisticCaseSolutionData] = []\n",
    "for base_similarity in BASE_SIMILARITIES:\n",
    "    for lying_witnesses in LYING_WITNESSES:\n",
    "        instance_generator = RealisticCaseInstanceGenerator(\n",
    "            base_similarity=base_similarity, \n",
    "            grid_size=GRID_SIZE, \n",
    "            lying_witnesses=lying_witnesses,\n",
    "            static_witnesses=STATIC_WITNESSES,\n",
    "            testimonies_per_lying_witness=TESTIMONIES_PER_LYING_WITNESS)\n",
    "        instance, actor_route = instance_generator.generateInstance()\n",
    "\n",
    "        instances.append(instance)\n",
    "        routes.append(RealisticCaseSolutionData(base_similarity,lying_witnesses,actor_route))\n",
    "\n",
    "with open(f\"instances/{FILENAME}.txt\",'w') as instance_file, open(f\"solutions/{FILENAME}.txt\",'w') as solution_file:\n",
    "    instance_file.write(Instance.schema().dumps(instances, many=True))\n",
    "    solution_file.write(RealisticCaseSolutionData.schema().dumps(routes, many=True))"
   ]
  },
  {
   "cell_type": "code",
   "execution_count": 1,
   "metadata": {},
   "outputs": [],
   "source": [
    "from src.geneticAlgorithm.geneticAlgorithm import GeneticAlgorithm\n",
    "from src.solutions.greedy import GreedyDistance, GreedyTestimonies, PersistentGreedyAlgorithm\n",
    "\n",
    "RUNS_PER_INSTANCE = 10\n",
    "RUN_ONCE = 1\n",
    "\n",
    "genetic_algorithms = [\n",
    "    (PersistentGreedyAlgorithm(GreedyDistance()), RUN_ONCE),\n",
    "    (GreedyTestimonies(), RUNS_PER_INSTANCE),\n",
    "    (GeneticAlgorithm(\n",
    "        populationSize=150,\n",
    "        numGenerations = 100,\n",
    "        mutationProbability=0.651,\n",
    "        crossoverRate=0.8321,\n",
    "        localSearchProb=lambda x,y: 0\n",
    "        ), RUNS_PER_INSTANCE),\n",
    "    (GeneticAlgorithm(\n",
    "        populationSize=150,\n",
    "        numGenerations = 100,\n",
    "        mutationProbability=0.7194,\n",
    "        crossoverRate=0.7344,\n",
    "        localSearchProb=lambda step,totalSteps: step/totalSteps * 0.2104\n",
    "        ), RUNS_PER_INSTANCE)]\n",
    "\n"
   ]
  },
  {
   "cell_type": "code",
   "execution_count": 3,
   "metadata": {},
   "outputs": [
    {
     "name": "stdout",
     "output_type": "stream",
     "text": [
      "Intel MKL WARNING: Support of Intel(R) Streaming SIMD Extensions 4.2 (Intel(R) SSE4.2) enabled only processors has been deprecated. Intel oneAPI Math Kernel Library 2025.0 will require Intel(R) Advanced Vector Extensions (Intel(R) AVX) instructions.\n",
      "Intel MKL WARNING: Support of Intel(R) Streaming SIMD Extensions 4.2 (Intel(R) SSE4.2) enabled only processors has been deprecated. Intel oneAPI Math Kernel Library 2025.0 will require Intel(R) Advanced Vector Extensions (Intel(R) AVX) instructions.\n",
      "Starting Execution at 20:46\n",
      "Calculated the initial population\n",
      "----Finished instance #0 at 20:46\n",
      "Calculated the initial population\n",
      "----Finished instance #1 at 20:46\n"
     ]
    }
   ],
   "source": [
    "import src.geneticAlgorithm.algorithmTestUtils as tst\n",
    "from src.geneticAlgorithm.algorithmDataGatherer import RealisticInstanceDataGatherer\n",
    "\n",
    "corners = [0, GRID_SIZE-1, GRID_SIZE**2-1, GRID_SIZE**2-GRID_SIZE]\n",
    "\n",
    "dataGatherer = lambda a,b,c: RealisticInstanceDataGatherer(a,b,c,end_vertices=corners)\n",
    " \n",
    "tst.executeAlgorithms(genetic_algorithms, FILENAME, dataGatherer, startIn=0, endIn=2)\n"
   ]
  },
  {
   "cell_type": "code",
   "execution_count": 3,
   "metadata": {},
   "outputs": [
    {
     "name": "stdout",
     "output_type": "stream",
     "text": [
      "Time-based\n",
      "$s=0$ & 1.0 & 0.0MEAN HITS: 0.027777777777777776\n",
      "------------------------------\n",
      "Testimony-based\n",
      "$s=0$ & 0.5 & 0.0MEAN HITS: 0.013888888888888888\n",
      "------------------------------\n",
      "GA\n",
      "$s=0$ & 0.8 & 0.4MEAN HITS: 0.03333333333333334\n",
      "------------------------------\n",
      "MA\n",
      "$s=0$ & 0.9 & 0.3MEAN HITS: 0.03333333333333333\n",
      "------------------------------\n"
     ]
    }
   ],
   "source": [
    "experiments_filename = \"realCase\"\n",
    "\n",
    "ROWS = len(BASE_SIMILARITIES)\n",
    "COLUMNS = len(LYING_WITNESSES)\n",
    "ALGORITHMS = ['Time-based', 'Testimony-based', 'GA', 'MA']\n",
    "\n",
    "bold_string, bold_string_end = \"$\\\\bf{\", \"}$\"\n",
    "\n",
    "with open(f\"solutions/{experiments_filename}.csv\") as f:\n",
    "    f.readline()\n",
    "\n",
    "\n",
    "    for algorithm_name in ALGORITHMS:\n",
    "\n",
    "        print(algorithm_name)\n",
    "\n",
    "        line = f.readline().split(',')\n",
    "        INSTANCES = (len(line) - 1)//5\n",
    "\n",
    "        algorithm_mean_hits_sum = 0\n",
    "\n",
    "        x,y = 0,0\n",
    "        print(f\"$s={BASE_SIMILARITIES[x]}$\", end='')\n",
    "        for i in range(1, len(line), 5):\n",
    "            mean = float(line[i])\n",
    "            maximum = float(line[i+1])\n",
    "            mean_hits = float(line[i+2])\n",
    "            real_fitness = float(line[i+3])\n",
    "            time = float(line[i+4])\n",
    "\n",
    "            algorithm_mean_hits_sum += mean_hits\n",
    "\n",
    "            equal_than_original = real_fitness < mean\n",
    "            print(f\" & {bold_string if equal_than_original else ''}{mean_hits}{bold_string_end if equal_than_original else ''}\", end='')\n",
    "\n",
    "            y += 1\n",
    "            if y >= COLUMNS:\n",
    "                y = 0\n",
    "                print(' \\\\\\\\')\n",
    "                x += 1\n",
    "                if x < ROWS:\n",
    "                    print(f\"$s={BASE_SIMILARITIES[x]}$\", end='')\n",
    "                \n",
    "        print(f\"MEAN HITS: {algorithm_mean_hits_sum/36}\")\n",
    "        print('------------------------------')\n"
   ]
  }
 ],
 "metadata": {
  "kernelspec": {
   "display_name": "witness",
   "language": "python",
   "name": "python3"
  },
  "language_info": {
   "codemirror_mode": {
    "name": "ipython",
    "version": 3
   },
   "file_extension": ".py",
   "mimetype": "text/x-python",
   "name": "python",
   "nbconvert_exporter": "python",
   "pygments_lexer": "ipython3",
   "version": "3.9.19"
  }
 },
 "nbformat": 4,
 "nbformat_minor": 2
}
