{
 "cells": [
  {
   "cell_type": "markdown",
   "metadata": {},
   "source": [
    "### Real Case Study\n",
    "\n"
   ]
  },
  {
   "cell_type": "markdown",
   "metadata": {},
   "source": [
    "### Instance generation"
   ]
  },
  {
   "cell_type": "code",
   "execution_count": null,
   "metadata": {},
   "outputs": [],
   "source": [
    "GRID_SIZE = 9\n",
    "FILENAME = 'realCase'\n",
    "STATIC_WITNESSES = 25\n",
    "TESTIMONIES_PER_LYING_WITNESS = 5\n",
    "BASE_SIMILARITIES = [0, 0.1, 0.2, 0.3, 0.4, 0.5]\n",
    "LYING_WITNESSES = [0,1,2,3,4,5]\n",
    "NUMBER_OF_INSTANCES = len(BASE_SIMILARITIES) * len(LYING_WITNESSES)"
   ]
  },
  {
   "cell_type": "code",
   "execution_count": null,
   "metadata": {},
   "outputs": [],
   "source": [
    "from src.realisticCase import RealisticCaseInstanceGenerator, RealisticCaseSolutionData\n",
    "from src.witnessproblem import Instance\n",
    "import random\n",
    "\n",
    "random.seed(1234)\n",
    "\n",
    "instances = []\n",
    "routes: list[RealisticCaseSolutionData] = []\n",
    "for base_similarity in BASE_SIMILARITIES:\n",
    "    for lying_witnesses in LYING_WITNESSES:\n",
    "        instance_generator = RealisticCaseInstanceGenerator(\n",
    "            base_similarity=base_similarity, \n",
    "            grid_size=GRID_SIZE, \n",
    "            lying_witnesses=lying_witnesses,\n",
    "            static_witnesses=STATIC_WITNESSES,\n",
    "            testimonies_per_lying_witness=TESTIMONIES_PER_LYING_WITNESS)\n",
    "        instance, actor_route = instance_generator.generateInstance()\n",
    "\n",
    "        instances.append(instance)\n",
    "        routes.append(RealisticCaseSolutionData(base_similarity,lying_witnesses,actor_route))\n",
    "\n",
    "with open(f\"instances/{FILENAME}.txt\",'w') as instance_file, open(f\"solutions/{FILENAME}.txt\",'w') as solution_file:\n",
    "    instance_file.write(Instance.schema().dumps(instances, many=True))\n",
    "    solution_file.write(RealisticCaseSolutionData.schema().dumps(routes, many=True))"
   ]
  }
 ],
 "metadata": {
  "kernelspec": {
   "display_name": "witness",
   "language": "python",
   "name": "python3"
  },
  "language_info": {
   "codemirror_mode": {
    "name": "ipython",
    "version": 3
   },
   "file_extension": ".py",
   "mimetype": "text/x-python",
   "name": "python",
   "nbconvert_exporter": "python",
   "pygments_lexer": "ipython3",
   "version": "3.9.19"
  }
 },
 "nbformat": 4,
 "nbformat_minor": 2
}
