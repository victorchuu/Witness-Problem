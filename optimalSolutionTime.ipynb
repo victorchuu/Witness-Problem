{
 "cells": [
  {
   "cell_type": "code",
   "execution_count": null,
   "metadata": {},
   "outputs": [],
   "source": [
    "from src.witnessproblem import RandomInstanceGenerator\n",
    "\n",
    "\n",
    "INSTANCES = RandomInstanceGenerator(\n",
    "    vertices = 12,\n",
    "    avg_vertex_degree = 3, \n",
    "    max_vertex_distance = 5, \n",
    "    witnesses = 50, \n",
    "    max_testimonies_per_witness = 5, \n",
    "    max_time_window = 10, \n",
    "    max_interval_length = 3, \n",
    "    max_vertices_per_testimony = 3, \n",
    "    negative_testimonies_rate = 0.3\n",
    ").create('measuring_time.txt', 10)"
   ]
  },
  {
   "cell_type": "code",
   "execution_count": 1,
   "metadata": {},
   "outputs": [],
   "source": [
    "import time\n",
    "from src.witnessproblem import Instance\n",
    "from src.solutions.optimal.optimalSolution import optimalSolution\n",
    "from src.solutions.optimal.oldOptimalSolution import oldOptimalSolution\n",
    "\n",
    "def test_measuring_time(algorithm):\n",
    "    with open('instances/measuring_time.txt') as inFile:\n",
    "        instances: list[Instance] = Instance.schema().loads(inFile.readline(), many=True)\n",
    "        [instance.graph.applyFloyd() for instance in instances]\n",
    "\n",
    "    for instance in instances:\n",
    "        start = time.time()\n",
    "        solution,route = algorithm(instance)\n",
    "        end = time.time()\n",
    "        print(f\"Time: {end - start}, solution: {solution}\")\n"
   ]
  },
  {
   "cell_type": "code",
   "execution_count": 2,
   "metadata": {},
   "outputs": [
    {
     "name": "stdout",
     "output_type": "stream",
     "text": [
      "Intel MKL WARNING: Support of Intel(R) Streaming SIMD Extensions 4.2 (Intel(R) SSE4.2) enabled only processors has been deprecated. Intel oneAPI Math Kernel Library 2025.0 will require Intel(R) Advanced Vector Extensions (Intel(R) AVX) instructions.\n",
      "Intel MKL WARNING: Support of Intel(R) Streaming SIMD Extensions 4.2 (Intel(R) SSE4.2) enabled only processors has been deprecated. Intel oneAPI Math Kernel Library 2025.0 will require Intel(R) Advanced Vector Extensions (Intel(R) AVX) instructions.\n",
      "Time: 1.779162883758545, solution: 13\n",
      "Time: 0.20482897758483887, solution: 12\n",
      "Time: 0.5800859928131104, solution: 12\n",
      "Time: 0.2959780693054199, solution: 11\n",
      "Time: 0.26476597785949707, solution: 8\n",
      "Time: 2.578536033630371, solution: 14\n",
      "Time: 0.3624279499053955, solution: 13\n",
      "Time: 4.077944993972778, solution: 13\n",
      "Time: 0.11809897422790527, solution: 13\n",
      "Time: 0.9581699371337891, solution: 11\n"
     ]
    }
   ],
   "source": [
    "test_measuring_time(optimalSolution)"
   ]
  },
  {
   "cell_type": "code",
   "execution_count": 3,
   "metadata": {},
   "outputs": [
    {
     "name": "stdout",
     "output_type": "stream",
     "text": [
      "Time: 15.605776071548462, solution: 13\n",
      "Time: 3.3792548179626465, solution: 12\n",
      "Time: 10.533164024353027, solution: 12\n",
      "Time: 7.147511005401611, solution: 11\n",
      "Time: 1.956056833267212, solution: 8\n",
      "Time: 18.355901956558228, solution: 14\n",
      "Time: 3.357661008834839, solution: 13\n",
      "Time: 49.30990195274353, solution: 13\n",
      "Time: 1.6222319602966309, solution: 13\n",
      "Time: 35.67094278335571, solution: 11\n"
     ]
    }
   ],
   "source": [
    "test_measuring_time(oldOptimalSolution)"
   ]
  }
 ],
 "metadata": {
  "kernelspec": {
   "display_name": "base",
   "language": "python",
   "name": "python3"
  },
  "language_info": {
   "codemirror_mode": {
    "name": "ipython",
    "version": 3
   },
   "file_extension": ".py",
   "mimetype": "text/x-python",
   "name": "python",
   "nbconvert_exporter": "python",
   "pygments_lexer": "ipython3",
   "version": "3.9.19"
  }
 },
 "nbformat": 4,
 "nbformat_minor": 2
}
