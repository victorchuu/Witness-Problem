{
 "cells": [
  {
   "cell_type": "code",
   "execution_count": 1,
   "metadata": {},
   "outputs": [
    {
     "name": "stdout",
     "output_type": "stream",
     "text": [
      "Intel MKL WARNING: Support of Intel(R) Streaming SIMD Extensions 4.2 (Intel(R) SSE4.2) enabled only processors has been deprecated. Intel oneAPI Math Kernel Library 2025.0 will require Intel(R) Advanced Vector Extensions (Intel(R) AVX) instructions.\n",
      "Intel MKL WARNING: Support of Intel(R) Streaming SIMD Extensions 4.2 (Intel(R) SSE4.2) enabled only processors has been deprecated. Intel oneAPI Math Kernel Library 2025.0 will require Intel(R) Advanced Vector Extensions (Intel(R) AVX) instructions.\n"
     ]
    }
   ],
   "source": [
    "import src.geneticAlgorithm.algorithmTestUtils as tst\n",
    "from src.geneticAlgorithm.geneticAlgorithm import GeneticAlgorithm\n",
    "from src.solutions.greedy import GreedyArrival, GreedyDeparture, GreedyDistance, GreedyTestimonies, PersistentGreedyAlgorithm\n",
    "from src.solutions.optimal.optimalSolution import SearchAlgorithm\n",
    "import src.witnessproblem as generator\n",
    "import copy\n",
    "\n",
    "SMALL_INSTANCE_SETS = ['I1']\n",
    "INSTANCE_SETS = ['I2','I3','I4']\n",
    "NEGATIVE_INSTANCE_SETS = ['I5']\n",
    "RUN_ONCE = 1\n",
    "RUNS_PER_INSTANCE = 10\n",
    "\n",
    "genetic_algorithms = [(GeneticAlgorithm(\n",
    "        populationSize=150,\n",
    "        numGenerations = 100,\n",
    "        mutationProbability=0.651,\n",
    "        crossoverRate=0.8321,\n",
    "        localSearchProb=lambda x,y: 0\n",
    "        ), RUNS_PER_INSTANCE),\n",
    "    (GeneticAlgorithm(\n",
    "        populationSize=150,\n",
    "        numGenerations = 100,\n",
    "        mutationProbability=0.7194,\n",
    "        crossoverRate=0.7344,\n",
    "        localSearchProb=lambda step,totalSteps: step/totalSteps * 0.2104\n",
    "        ), RUNS_PER_INSTANCE),]\n",
    "\n",
    "approximation_algorithms = copy.copy(genetic_algorithms)\n",
    "approximation_algorithms += [\n",
    "    (PersistentGreedyAlgorithm(GreedyDistance()), RUN_ONCE),\n",
    "    (GreedyTestimonies(), RUNS_PER_INSTANCE),\n",
    "]\n",
    "\n",
    "all_algorithms = copy.copy(approximation_algorithms)\n",
    "all_algorithms.append((SearchAlgorithm(), RUN_ONCE))"
   ]
  },
  {
   "cell_type": "code",
   "execution_count": 2,
   "metadata": {},
   "outputs": [],
   "source": [
    "import random\n",
    "random.seed(23)\n",
    "  \n",
    "generator.I1.create(\"I1.txt\", 100)\n",
    "generator.I2.create(\"I2.txt\", 100)\n",
    "generator.I3.create(\"I3.txt\", 100)\n",
    "generator.I4.create(\"I4.txt\", 100)\n",
    "generator.I5.create(\"I5.txt\", 100)"
   ]
  },
  {
   "cell_type": "code",
   "execution_count": null,
   "metadata": {},
   "outputs": [],
   "source": [
    "for instanceSet in SMALL_INSTANCE_SETS:\n",
    "    tst.executeAlgorithmsToCSV(genetic_algorithms, instanceSet, suffix=\"-including-optimal-v2\",startIn=95,endIn=100)\n",
    "    print(f\"Test set {instanceSet} completed!\")"
   ]
  },
  {
   "cell_type": "code",
   "execution_count": null,
   "metadata": {},
   "outputs": [],
   "source": [
    "for instanceSet in ['I4']:\n",
    "    tst.executeAlgorithmsToCSV(genetic_algorithms, instanceSet, suffix=\"v2\")\n",
    "    print(f\"Test set {instanceSet} completed!\")"
   ]
  },
  {
   "cell_type": "code",
   "execution_count": null,
   "metadata": {},
   "outputs": [],
   "source": [
    "for instanceSet in NEGATIVE_INSTANCE_SETS:\n",
    "    tst.executeAlgorithmsToCSV(genetic_algorithms, instanceSet, suffix=\"-only-genetic-v2\")\n",
    "    print(f\"Test set {instanceSet} completed!\")"
   ]
  },
  {
   "cell_type": "code",
   "execution_count": null,
   "metadata": {},
   "outputs": [],
   "source": [
    "import csv\n",
    "\n",
    "def read_csv(file_path):    \n",
    "    with open(file_path, 'r') as csv_file:\n",
    "        csv_reader = csv.reader(csv_file)\n",
    "\n",
    "        \n",
    "        ini = 1\n",
    "        step = 3\n",
    "        for row_number, row in enumerate(csv_reader, start=2):\n",
    "            print(row[0])\n",
    "            for i in range(ini, len(row), step):\n",
    "                # print(row[i])\n",
    "                print(row[i], end=' , ')\n",
    "            print('\\n++++++++++++++++++++++')\n",
    "\n",
    "read_csv('solutions/I4.csv')"
   ]
  }
 ],
 "metadata": {
  "kernelspec": {
   "display_name": "witness",
   "language": "python",
   "name": "python3"
  },
  "language_info": {
   "codemirror_mode": {
    "name": "ipython",
    "version": 3
   },
   "file_extension": ".py",
   "mimetype": "text/x-python",
   "name": "python",
   "nbconvert_exporter": "python",
   "pygments_lexer": "ipython3",
   "version": "3.9.19"
  },
  "orig_nbformat": 4,
  "vscode": {
   "interpreter": {
    "hash": "ccd8ee7c7f6cb014fac02a3a35c1b29b8b036c0ce57fbdd561afc32abd8410ff"
   }
  }
 },
 "nbformat": 4,
 "nbformat_minor": 2
}
