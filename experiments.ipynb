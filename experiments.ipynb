{
 "cells": [
  {
   "cell_type": "code",
   "execution_count": null,
   "metadata": {},
   "outputs": [],
   "source": [
    "import src.geneticAlgorithm.algorithmTestUtils as tst\n",
    "from src.geneticAlgorithm.geneticAlgorithm import GeneticAlgorithm\n",
    "from src.solutions.greedy import GreedyArrival, GreedyDeparture, GreedyDistance, GreedyTestimonies, PersistentGreedyAlgorithm\n",
    "from src.solutions.optimal.optimalSolution import SearchAlgorithm\n",
    "import src.witnessproblem as generator\n",
    "import copy\n",
    "\n",
    "SMALL_INSTANCE_SETS = ['I1']\n",
    "INSTANCE_SETS = ['I2','I3','I4']\n",
    "RUN_ONCE = 1\n",
    "RUNS_PER_INSTANCE = 10\n",
    "\n",
    "approximation_algorithms = [\n",
    "    (PersistentGreedyAlgorithm(GreedyArrival()), RUN_ONCE),\n",
    "    (PersistentGreedyAlgorithm(GreedyDeparture()), RUN_ONCE),\n",
    "    (PersistentGreedyAlgorithm(GreedyDistance()), RUN_ONCE),\n",
    "    (PersistentGreedyAlgorithm(GreedyTestimonies()), RUN_ONCE),\n",
    "    (GeneticAlgorithm(\n",
    "        populationSize=150,\n",
    "        mutationProbability=0.6,\n",
    "        crossoverRate=0.7,\n",
    "        localSearchProb=lambda x,y: 0\n",
    "        ), RUNS_PER_INSTANCE),\n",
    "    (GeneticAlgorithm(\n",
    "        populationSize=150,\n",
    "        mutationProbability=0.6,\n",
    "        crossoverRate=0.7,\n",
    "        localSearchProb=lambda step,totalSteps: step/totalSteps * 0.2\n",
    "        ), RUNS_PER_INSTANCE),\n",
    "]\n",
    "\n",
    "all_algorithms = copy.copy(approximation_algorithms)\n",
    "all_algorithms.append((SearchAlgorithm(), RUN_ONCE))"
   ]
  },
  {
   "cell_type": "code",
   "execution_count": null,
   "metadata": {},
   "outputs": [],
   "source": [
    "import random\n",
    "random.seed(23)\n",
    "  \n",
    "generator.I1.create(\"I1.txt\", 20)\n",
    "generator.I2.create(\"I2.txt\", 20)\n",
    "generator.I3.create(\"I3.txt\", 20)\n",
    "generator.I4.create(\"I4.txt\", 20)"
   ]
  },
  {
   "cell_type": "code",
   "execution_count": null,
   "metadata": {},
   "outputs": [],
   "source": [
    "for instanceSet in SMALL_INSTANCE_SETS:\n",
    "    tst.executeAlgorithmsToCSV(all_algorithms, instanceSet, suffix=\"-including-optimal\")\n",
    "    print(f\"Test set {instanceSet} completed!\")"
   ]
  },
  {
   "cell_type": "code",
   "execution_count": null,
   "metadata": {},
   "outputs": [],
   "source": [
    "for instanceSet in INSTANCE_SETS:\n",
    "    tst.executeAlgorithmsToCSV(approximation_algorithms, instanceSet,)\n",
    "    print(f\"Test set {instanceSet} completed!\")"
   ]
  }
 ],
 "metadata": {
  "kernelspec": {
   "display_name": "witness",
   "language": "python",
   "name": "python3"
  },
  "language_info": {
   "codemirror_mode": {
    "name": "ipython",
    "version": 3
   },
   "file_extension": ".py",
   "mimetype": "text/x-python",
   "name": "python",
   "nbconvert_exporter": "python",
   "pygments_lexer": "ipython3",
   "version": "3.10.8"
  },
  "orig_nbformat": 4,
  "vscode": {
   "interpreter": {
    "hash": "ccd8ee7c7f6cb014fac02a3a35c1b29b8b036c0ce57fbdd561afc32abd8410ff"
   }
  }
 },
 "nbformat": 4,
 "nbformat_minor": 2
}
