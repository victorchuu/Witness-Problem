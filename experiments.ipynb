{
 "cells": [
  {
   "cell_type": "code",
   "execution_count": null,
   "metadata": {},
   "outputs": [],
   "source": [
    "import src.geneticAlgorithm.algorithmTestUtils as tst\n",
    "from src.geneticAlgorithm.geneticAlgorithm import GeneticAlgorithm\n",
    "from src.solutions.greedy import GreedyDistance, GreedyTestimonies, PersistentGreedyAlgorithm\n",
    "from src.solutions.optimal.optimalSolution import SearchAlgorithm\n",
    "from src.geneticAlgorithm.algorithmDataGatherer import CSVDataGatherer\n",
    "\n",
    "import src.witnessproblem as generator\n",
    "import copy\n",
    "\n",
    "SMALL_INSTANCE_SETS = ['I1']\n",
    "INSTANCE_SETS = ['I2','I3','I4']\n",
    "NEGATIVE_INSTANCE_SETS = ['I5']\n",
    "RUN_ONCE = 1\n",
    "RUNS_PER_INSTANCE = 10\n",
    "\n",
    "genetic_algorithms = [(GeneticAlgorithm(\n",
    "        populationSize=150,\n",
    "        numGenerations = 100,\n",
    "        mutationProbability=0.651,\n",
    "        crossoverRate=0.8321,\n",
    "        localSearchProb=lambda x,y: 0\n",
    "        ), RUNS_PER_INSTANCE),\n",
    "    (GeneticAlgorithm(\n",
    "        populationSize=150,\n",
    "        numGenerations = 100,\n",
    "        mutationProbability=0.7194,\n",
    "        crossoverRate=0.7344,\n",
    "        localSearchProb=lambda step,totalSteps: step/totalSteps * 0.2104\n",
    "        ), RUNS_PER_INSTANCE),]\n",
    "\n",
    "approximation_algorithms = copy.copy(genetic_algorithms)\n",
    "approximation_algorithms += [\n",
    "    (PersistentGreedyAlgorithm(GreedyDistance()), RUN_ONCE),\n",
    "    (GreedyTestimonies(), RUNS_PER_INSTANCE),\n",
    "]\n",
    "\n",
    "all_algorithms = copy.copy(approximation_algorithms)\n",
    "all_algorithms.append((SearchAlgorithm(), RUN_ONCE))"
   ]
  },
  {
   "cell_type": "code",
   "execution_count": null,
   "metadata": {},
   "outputs": [],
   "source": [
    "import random\n",
    "random.seed(23)\n",
    "  \n",
    "generator.I1.create(\"I1.txt\", 100)\n",
    "generator.I2.create(\"I2.txt\", 100)\n",
    "generator.I3.create(\"I3.txt\", 100)\n",
    "generator.I4.create(\"I4.txt\", 100)\n",
    "generator.I5.create(\"I5.txt\", 100)"
   ]
  },
  {
   "cell_type": "code",
   "execution_count": null,
   "metadata": {},
   "outputs": [],
   "source": [
    "for instanceSet in SMALL_INSTANCE_SETS:\n",
    "    tst.executeAlgorithms(genetic_algorithms, instanceSet, CSVDataGatherer, suffix=\"-including-optimal-v2\",startIn=95,endIn=100)\n",
    "    print(f\"Test set {instanceSet} completed!\")"
   ]
  },
  {
   "cell_type": "code",
   "execution_count": null,
   "metadata": {},
   "outputs": [],
   "source": [
    "for instanceSet in ['I4']:\n",
    "    tst.executeAlgorithms(genetic_algorithms, instanceSet, CSVDataGatherer, suffix=\"v2\")\n",
    "    print(f\"Test set {instanceSet} completed!\")"
   ]
  },
  {
   "cell_type": "code",
   "execution_count": null,
   "metadata": {},
   "outputs": [],
   "source": [
    "for instanceSet in NEGATIVE_INSTANCE_SETS:\n",
    "    tst.executeAlgorithms(genetic_algorithms, instanceSet, CSVDataGatherer, suffix=\"-only-genetic-v2\")\n",
    "    print(f\"Test set {instanceSet} completed!\")"
   ]
  },
  {
   "cell_type": "markdown",
   "metadata": {},
   "source": [
    "### Fixed time Experiments"
   ]
  },
  {
   "cell_type": "code",
   "execution_count": null,
   "metadata": {},
   "outputs": [],
   "source": [
    "import time\n",
    "\n",
    "timed_genetic_algorithms = [(GeneticAlgorithm(\n",
    "        populationSize=150,\n",
    "        numGenerations = 100,\n",
    "        mutationProbability=0.651,\n",
    "        crossoverRate=0.8321,\n",
    "        localSearchProb=lambda x,y: 0,\n",
    "        stop_condition=lambda _,start_time: time.time() - start_time > 10\n",
    "        ), RUNS_PER_INSTANCE),\n",
    "    (GeneticAlgorithm(\n",
    "        populationSize=150,\n",
    "        numGenerations = 100,\n",
    "        mutationProbability=0.7194,\n",
    "        crossoverRate=0.7344,\n",
    "        localSearchProb=lambda step,totalSteps: step/totalSteps * 0.2104,\n",
    "        stop_condition=lambda _,start_time: time.time() - start_time > 10\n",
    "        ), RUNS_PER_INSTANCE),]"
   ]
  },
  {
   "cell_type": "code",
   "execution_count": null,
   "metadata": {},
   "outputs": [],
   "source": [
    "for instanceSet in ['I4']:\n",
    "    tst.executeAlgorithms(timed_genetic_algorithms, instanceSet, CSVDataGatherer, suffix=\"v2\", endIn=3)\n",
    "    print(f\"Test set {instanceSet} completed!\")"
   ]
  }
 ],
 "metadata": {
  "kernelspec": {
   "display_name": "witness",
   "language": "python",
   "name": "python3"
  },
  "language_info": {
   "codemirror_mode": {
    "name": "ipython",
    "version": 3
   },
   "file_extension": ".py",
   "mimetype": "text/x-python",
   "name": "python",
   "nbconvert_exporter": "python",
   "pygments_lexer": "ipython3",
   "version": "3.9.19"
  },
  "orig_nbformat": 4,
  "vscode": {
   "interpreter": {
    "hash": "ccd8ee7c7f6cb014fac02a3a35c1b29b8b036c0ce57fbdd561afc32abd8410ff"
   }
  }
 },
 "nbformat": 4,
 "nbformat_minor": 2
}
